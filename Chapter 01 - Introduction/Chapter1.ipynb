{
  "cells": [
    {
      "cell_type": "markdown",
      "metadata": {
        "id": "2ev6gar5yNlM"
      },
      "source": [
        "# Chapter 1 - Introduction: Key Concepts, Notation, Set Theory, Relations, and Functions\n",
        "\n",
        "This notebook contains code accompanying Chapter 1 Introduction: Key Concepts, Notation, Set Theory, Relations, and Functions in *Practical Discrete Mathematics* by Ryan T. White and Archana Tikayat Ray\n",
        "\n",
        "## Functions and Relations\n",
        "\n",
        "### The `sort()` function"
      ]
    },
    {
      "cell_type": "code",
      "execution_count": null,
      "metadata": {
        "id": "pgSjBhINyNlN",
        "outputId": "f0aaf48d-046e-4970-8038-95ce4830ca1c"
      },
      "outputs": [
        {
          "name": "stdout",
          "output_type": "stream",
          "text": [
            "[1, 2, 3, 4, 5, 8, 9, 12]\n",
            "['Brandon', 'Elise', 'Eugene', 'Kumar', 'Wyatt']\n"
          ]
        }
      ],
      "source": [
        "numbers = [3, 1, 4, 12, 8, 5, 2, 9]\n",
        "names = ['Wyatt', 'Brandon', 'Kumar', 'Eugene', 'Elise']\n",
        "\n",
        "# Apply the sort() function to the lists\n",
        "numbers.sort()\n",
        "names.sort()\n",
        "\n",
        "# Display the output\n",
        "print(numbers)\n",
        "print(names)"
      ]
    },
    {
      "cell_type": "markdown",
      "metadata": {
        "id": "ZmpHPSaiyNlO"
      },
      "source": [
        "### The `shuffle()` function"
      ]
    },
    {
      "cell_type": "code",
      "execution_count": null,
      "metadata": {
        "id": "naHUnq2ByNlP",
        "outputId": "5ac823ea-9739-4151-c03b-f53a30bb1646"
      },
      "outputs": [
        {
          "name": "stdout",
          "output_type": "stream",
          "text": [
            "[12, 2, 1, 5, 9, 3, 8, 4]\n",
            "[4, 2, 8, 3, 1, 12, 5, 9]\n",
            "[4, 5, 1, 9, 3, 8, 12, 2]\n",
            "[9, 12, 2, 8, 5, 3, 4, 1]\n",
            "[9, 8, 4, 3, 12, 1, 5, 2]\n"
          ]
        }
      ],
      "source": [
        "import random\n",
        "\n",
        "# Set a random seed so the code is reproducible\n",
        "random.seed(1)\n",
        "\n",
        "# Run the random.shuffle() function 5 times and display the outputs\n",
        "for i in range(0,5):\n",
        "    numbers = [3, 1, 4, 12, 8, 5, 2, 9]\n",
        "    random.shuffle(numbers)\n",
        "    print(numbers)"
      ]
    },
    {
      "cell_type": "markdown",
      "source": [
        "Question: Request user input of a simple proposition statement. create a truth table."
      ],
      "metadata": {
        "id": "oOONAfOK1-ki"
      }
    },
    {
      "cell_type": "code",
      "source": [
        "# prompt: Question: Request user input of a simple proposition statement. create a truth table.p and q\n",
        "\n",
        "def generate_truth_table(proposition):\n",
        "  \"\"\"Generates a truth table for a proposition involving p and q.\n",
        "\n",
        "  Args:\n",
        "    proposition: A string representing the proposition.\n",
        "\n",
        "  Returns:\n",
        "    A list of lists representing the truth table.\n",
        "  \"\"\"\n",
        "\n",
        "  truth_table = []\n",
        "  for p_value in [True, False]:\n",
        "    for q_value in [True, False]:\n",
        "      # Evaluate the proposition using the current truth values.\n",
        "      p = p_value\n",
        "      q = q_value\n",
        "\n",
        "      # Replace 'p' and 'q' with their corresponding truth values in the proposition.\n",
        "      # You'll need to implement your own parsing and evaluation logic for different logical operators.\n",
        "      # For example, for the proposition \"p and q\", you would do:\n",
        "      # result = p and q\n",
        "      # For the proposition \"p or q\", you would do:\n",
        "      # result = p or q\n",
        "      # For the proposition \"not p\", you would do:\n",
        "      # result = not p\n",
        "\n",
        "      # Replace this with your actual proposition evaluation.\n",
        "      # This is a simple example of \"p and q\"\n",
        "      result = p and q\n",
        "\n",
        "\n",
        "      truth_table.append([p, q, result])\n",
        "\n",
        "  return truth_table\n",
        "\n",
        "\n",
        "def main():\n",
        "  proposition = input(\"Enter a simple proposition statement involving p and q: \")\n",
        "  truth_table = generate_truth_table(proposition)\n",
        "\n",
        "  print(\"Truth Table:\")\n",
        "  print(\"p | q | Result\")\n",
        "  print(\"-\" * 15)\n",
        "  for row in truth_table:\n",
        "    print(row[0], \"|\", row[1], \"|\", row[2])\n",
        "\n",
        "\n",
        "if __name__ == \"__main__\":\n",
        "  main()"
      ],
      "metadata": {
        "id": "Z-a_XP511rGM",
        "outputId": "b9311482-f261-42e8-d78f-2a7552530a6b",
        "colab": {
          "base_uri": "https://localhost:8080/"
        }
      },
      "execution_count": 1,
      "outputs": [
        {
          "output_type": "stream",
          "name": "stdout",
          "text": [
            "Enter a simple proposition statement involving p and q: p and q \n",
            "Truth Table:\n",
            "p | q | Result\n",
            "---------------\n",
            "True | True | True\n",
            "True | False | False\n",
            "False | True | False\n",
            "False | False | False\n"
          ]
        }
      ]
    }
  ],
  "metadata": {
    "kernelspec": {
      "display_name": "Python 3.7 (DL)",
      "language": "python",
      "name": "dl"
    },
    "language_info": {
      "codemirror_mode": {
        "name": "ipython",
        "version": 3
      },
      "file_extension": ".py",
      "mimetype": "text/x-python",
      "name": "python",
      "nbconvert_exporter": "python",
      "pygments_lexer": "ipython3",
      "version": "3.7.7"
    },
    "colab": {
      "provenance": []
    }
  },
  "nbformat": 4,
  "nbformat_minor": 0
}