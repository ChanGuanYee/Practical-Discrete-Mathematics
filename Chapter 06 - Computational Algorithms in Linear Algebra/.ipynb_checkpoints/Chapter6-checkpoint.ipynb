{
  "cells": [
    {
      "cell_type": "markdown",
      "metadata": {
        "id": "x48Li0tV4b09"
      },
      "source": [
        "# Chapter 6 - Computational Algorithms in Linear Algebra\n",
        "\n",
        "This notebook contains code accompanying Chapter 6 Computational Algorithms in Linear Algebra in *Practical Discrete Mathematics* by Ryan T. White and Archana Tikayat Ray.\n",
        "\n",
        "## Matrices and Matrix Representations of Linear Systems\n",
        "\n",
        "The code below stores matrices as `NumPy` arrays and prints specified entries of the matrices."
      ]
    },
    {
      "cell_type": "code",
      "execution_count": null,
      "metadata": {
        "id": "qtCC6Ua14b0_",
        "outputId": "b9498b09-fe71-4aee-b244-4dfae32e4169"
      },
      "outputs": [
        {
          "name": "stdout",
          "output_type": "stream",
          "text": [
            "3\n",
            "1\n"
          ]
        }
      ],
      "source": [
        "import numpy\n",
        "\n",
        "# initialize matrices\n",
        "A = numpy.array([[3, 2, 1], [9, 0, 1], [3, 4, 1]])\n",
        "B = numpy.array([[1, 1, 2], [8, 4, 1], [0, 0, 3]])\n",
        "\n",
        "# print the entry in the first row and first column of A\n",
        "print(A[0,0])\n",
        "\n",
        "# print the entry in the second row and third column of B\n",
        "print(B[1,2])"
      ]
    },
    {
      "cell_type": "markdown",
      "metadata": {
        "id": "phuAOirJ4b1B"
      },
      "source": [
        "### Example: Matrix Addition and Subtraction"
      ]
    },
    {
      "cell_type": "code",
      "execution_count": 5,
      "metadata": {
        "id": "BhUYOxsl4b1B",
        "outputId": "cb4d78aa-624f-4364-df37-94e9a3b097bc",
        "colab": {
          "base_uri": "https://localhost:8080/"
        }
      },
      "outputs": [
        {
          "output_type": "stream",
          "name": "stdout",
          "text": [
            "14\n",
            "[[ 2  1 -1]\n",
            " [ 1 -4  0]\n",
            " [ 3  4 -2]]\n"
          ]
        }
      ],
      "source": [
        "import numpy\n",
        "\n",
        "# Add A and B\n",
        "print(numpy.add(5,9))\n",
        "\n",
        "# initialize matrices\n",
        "A = numpy.array([[3, 2, 1], [9, 0, 1], [3, 4, 1]])\n",
        "B = numpy.array([[1, 1, 2], [8, 4, 1], [0, 0, 3]])\n",
        "\n",
        "# Subtract A and B\n",
        "print(numpy.subtract(A,B))"
      ]
    },
    {
      "cell_type": "markdown",
      "metadata": {
        "id": "PDyOZMjT4b1C"
      },
      "source": [
        "### Example: Scalar Multiplication and Transpose"
      ]
    },
    {
      "cell_type": "code",
      "execution_count": 6,
      "metadata": {
        "id": "F-NI6CCq4b1C",
        "outputId": "9f07b296-8eda-4116-cd83-08c6540a7998",
        "colab": {
          "base_uri": "https://localhost:8080/"
        }
      },
      "outputs": [
        {
          "output_type": "stream",
          "name": "stdout",
          "text": [
            "[[15 10  5]\n",
            " [45  0  5]\n",
            " [15 20  5]]\n",
            "[[3 9 3]\n",
            " [2 0 4]\n",
            " [1 1 1]]\n"
          ]
        }
      ],
      "source": [
        "# Multiply A by a scalar 5\n",
        "print(numpy.multiply(5,A))\n",
        "\n",
        "# Find the transpose of A\n",
        "print(numpy.transpose(A))"
      ]
    },
    {
      "cell_type": "markdown",
      "metadata": {
        "id": "vV0pBwhC4b1C"
      },
      "source": [
        "### Example: Matrix Multiplication and Transpose"
      ]
    },
    {
      "cell_type": "code",
      "execution_count": null,
      "metadata": {
        "id": "rKLS6Mfl4b1C",
        "outputId": "9a8b4a5f-4d29-430f-f637-f25300cecfe0"
      },
      "outputs": [
        {
          "name": "stdout",
          "output_type": "stream",
          "text": [
            "[[19 11 11]\n",
            " [ 9  9 21]\n",
            " [35 19 13]]\n"
          ]
        }
      ],
      "source": [
        "# Multiply A and B\n",
        "print(numpy.dot(A,B))"
      ]
    },
    {
      "cell_type": "markdown",
      "metadata": {
        "id": "Qjvp1IOp4b1D"
      },
      "source": [
        "## Solving Large Linear Systems with `NumPy`\n",
        "\n",
        "### Example: Solving $\\mathbf{Ax}=\\mathbf{b}$ for $\\mathbf{x}$"
      ]
    },
    {
      "cell_type": "code",
      "execution_count": null,
      "metadata": {
        "id": "jNIj22jm4b1D",
        "outputId": "f7630110-1f8e-4361-f811-478ff1c4dc91"
      },
      "outputs": [
        {
          "data": {
            "text/plain": [
              "array([ 5.,  1., -2.])"
            ]
          },
          "execution_count": 10,
          "metadata": {},
          "output_type": "execute_result"
        }
      ],
      "source": [
        "import numpy\n",
        "\n",
        "# Create A and b matrices\n",
        "A = numpy.array([[2, -6, 6], [2, 3, -1], [4, -3, -1]])\n",
        "b = numpy.array([-8, 15, 19])\n",
        "\n",
        "# Solve Ax = b\n",
        "numpy.linalg.solve(A,b)\n"
      ]
    },
    {
      "cell_type": "markdown",
      "metadata": {
        "id": "gCyrKf224b1D"
      },
      "source": [
        "### Example: Inconsistent and Dependent Systems with `NumPy`"
      ]
    },
    {
      "cell_type": "code",
      "execution_count": null,
      "metadata": {
        "id": "6ZsYgxMs4b1D",
        "outputId": "7c805341-c941-4c39-ddaa-ee3a370ed13c"
      },
      "outputs": [
        {
          "ename": "LinAlgError",
          "evalue": "Singular matrix",
          "output_type": "error",
          "traceback": [
            "\u001b[1;31m---------------------------------------------------------------------------\u001b[0m",
            "\u001b[1;31mLinAlgError\u001b[0m                               Traceback (most recent call last)",
            "\u001b[1;32m<ipython-input-14-88a6688b74fc>\u001b[0m in \u001b[0;36m<module>\u001b[1;34m\u001b[0m\n\u001b[0;32m      5\u001b[0m \u001b[0mb\u001b[0m \u001b[1;33m=\u001b[0m \u001b[0mnumpy\u001b[0m\u001b[1;33m.\u001b[0m\u001b[0marray\u001b[0m\u001b[1;33m(\u001b[0m\u001b[1;33m[\u001b[0m\u001b[1;36m3\u001b[0m\u001b[1;33m,\u001b[0m \u001b[1;36m3\u001b[0m\u001b[1;33m]\u001b[0m\u001b[1;33m)\u001b[0m\u001b[1;33m\u001b[0m\u001b[1;33m\u001b[0m\u001b[0m\n\u001b[0;32m      6\u001b[0m \u001b[1;33m\u001b[0m\u001b[0m\n\u001b[1;32m----> 7\u001b[1;33m \u001b[0mprint\u001b[0m\u001b[1;33m(\u001b[0m\u001b[0mnumpy\u001b[0m\u001b[1;33m.\u001b[0m\u001b[0mlinalg\u001b[0m\u001b[1;33m.\u001b[0m\u001b[0msolve\u001b[0m\u001b[1;33m(\u001b[0m\u001b[0mA\u001b[0m\u001b[1;33m,\u001b[0m\u001b[0mb\u001b[0m\u001b[1;33m)\u001b[0m\u001b[1;33m)\u001b[0m\u001b[1;33m\u001b[0m\u001b[1;33m\u001b[0m\u001b[0m\n\u001b[0m",
            "\u001b[1;32m<__array_function__ internals>\u001b[0m in \u001b[0;36msolve\u001b[1;34m(*args, **kwargs)\u001b[0m\n",
            "\u001b[1;32m~\\anaconda3\\envs\\DL\\lib\\site-packages\\numpy\\linalg\\linalg.py\u001b[0m in \u001b[0;36msolve\u001b[1;34m(a, b)\u001b[0m\n\u001b[0;32m    392\u001b[0m     \u001b[0msignature\u001b[0m \u001b[1;33m=\u001b[0m \u001b[1;34m'DD->D'\u001b[0m \u001b[1;32mif\u001b[0m \u001b[0misComplexType\u001b[0m\u001b[1;33m(\u001b[0m\u001b[0mt\u001b[0m\u001b[1;33m)\u001b[0m \u001b[1;32melse\u001b[0m \u001b[1;34m'dd->d'\u001b[0m\u001b[1;33m\u001b[0m\u001b[1;33m\u001b[0m\u001b[0m\n\u001b[0;32m    393\u001b[0m     \u001b[0mextobj\u001b[0m \u001b[1;33m=\u001b[0m \u001b[0mget_linalg_error_extobj\u001b[0m\u001b[1;33m(\u001b[0m\u001b[0m_raise_linalgerror_singular\u001b[0m\u001b[1;33m)\u001b[0m\u001b[1;33m\u001b[0m\u001b[1;33m\u001b[0m\u001b[0m\n\u001b[1;32m--> 394\u001b[1;33m     \u001b[0mr\u001b[0m \u001b[1;33m=\u001b[0m \u001b[0mgufunc\u001b[0m\u001b[1;33m(\u001b[0m\u001b[0ma\u001b[0m\u001b[1;33m,\u001b[0m \u001b[0mb\u001b[0m\u001b[1;33m,\u001b[0m \u001b[0msignature\u001b[0m\u001b[1;33m=\u001b[0m\u001b[0msignature\u001b[0m\u001b[1;33m,\u001b[0m \u001b[0mextobj\u001b[0m\u001b[1;33m=\u001b[0m\u001b[0mextobj\u001b[0m\u001b[1;33m)\u001b[0m\u001b[1;33m\u001b[0m\u001b[1;33m\u001b[0m\u001b[0m\n\u001b[0m\u001b[0;32m    395\u001b[0m \u001b[1;33m\u001b[0m\u001b[0m\n\u001b[0;32m    396\u001b[0m     \u001b[1;32mreturn\u001b[0m \u001b[0mwrap\u001b[0m\u001b[1;33m(\u001b[0m\u001b[0mr\u001b[0m\u001b[1;33m.\u001b[0m\u001b[0mastype\u001b[0m\u001b[1;33m(\u001b[0m\u001b[0mresult_t\u001b[0m\u001b[1;33m,\u001b[0m \u001b[0mcopy\u001b[0m\u001b[1;33m=\u001b[0m\u001b[1;32mFalse\u001b[0m\u001b[1;33m)\u001b[0m\u001b[1;33m)\u001b[0m\u001b[1;33m\u001b[0m\u001b[1;33m\u001b[0m\u001b[0m\n",
            "\u001b[1;32m~\\anaconda3\\envs\\DL\\lib\\site-packages\\numpy\\linalg\\linalg.py\u001b[0m in \u001b[0;36m_raise_linalgerror_singular\u001b[1;34m(err, flag)\u001b[0m\n\u001b[0;32m     86\u001b[0m \u001b[1;33m\u001b[0m\u001b[0m\n\u001b[0;32m     87\u001b[0m \u001b[1;32mdef\u001b[0m \u001b[0m_raise_linalgerror_singular\u001b[0m\u001b[1;33m(\u001b[0m\u001b[0merr\u001b[0m\u001b[1;33m,\u001b[0m \u001b[0mflag\u001b[0m\u001b[1;33m)\u001b[0m\u001b[1;33m:\u001b[0m\u001b[1;33m\u001b[0m\u001b[1;33m\u001b[0m\u001b[0m\n\u001b[1;32m---> 88\u001b[1;33m     \u001b[1;32mraise\u001b[0m \u001b[0mLinAlgError\u001b[0m\u001b[1;33m(\u001b[0m\u001b[1;34m\"Singular matrix\"\u001b[0m\u001b[1;33m)\u001b[0m\u001b[1;33m\u001b[0m\u001b[1;33m\u001b[0m\u001b[0m\n\u001b[0m\u001b[0;32m     89\u001b[0m \u001b[1;33m\u001b[0m\u001b[0m\n\u001b[0;32m     90\u001b[0m \u001b[1;32mdef\u001b[0m \u001b[0m_raise_linalgerror_nonposdef\u001b[0m\u001b[1;33m(\u001b[0m\u001b[0merr\u001b[0m\u001b[1;33m,\u001b[0m \u001b[0mflag\u001b[0m\u001b[1;33m)\u001b[0m\u001b[1;33m:\u001b[0m\u001b[1;33m\u001b[0m\u001b[1;33m\u001b[0m\u001b[0m\n",
            "\u001b[1;31mLinAlgError\u001b[0m: Singular matrix"
          ]
        }
      ],
      "source": [
        "import numpy\n",
        "\n",
        "# inconsistent system\n",
        "A = numpy.array([[2, 1], [6, 3]])\n",
        "b = numpy.array([3, 3])\n",
        "\n",
        "print(numpy.linalg.solve(A,b))"
      ]
    },
    {
      "cell_type": "markdown",
      "metadata": {
        "id": "jrZanoE54b1E"
      },
      "source": [
        "Note that the code throws an error because the matrix $\\mathbf{A}$ is singular since the system is inconsistent--i.e. there are no solutions."
      ]
    },
    {
      "cell_type": "code",
      "execution_count": null,
      "metadata": {
        "id": "onc42qTG4b1E",
        "outputId": "65b45a6a-5df2-4792-8547-8ab3dba6c929"
      },
      "outputs": [
        {
          "ename": "LinAlgError",
          "evalue": "Singular matrix",
          "output_type": "error",
          "traceback": [
            "\u001b[1;31m---------------------------------------------------------------------------\u001b[0m",
            "\u001b[1;31mLinAlgError\u001b[0m                               Traceback (most recent call last)",
            "\u001b[1;32m<ipython-input-19-a7825dde56f3>\u001b[0m in \u001b[0;36m<module>\u001b[1;34m\u001b[0m\n\u001b[0;32m      3\u001b[0m \u001b[0mb\u001b[0m \u001b[1;33m=\u001b[0m \u001b[0mnumpy\u001b[0m\u001b[1;33m.\u001b[0m\u001b[0marray\u001b[0m\u001b[1;33m(\u001b[0m\u001b[1;33m[\u001b[0m\u001b[1;36m1\u001b[0m\u001b[1;33m,\u001b[0m \u001b[1;36m3\u001b[0m\u001b[1;33m]\u001b[0m\u001b[1;33m)\u001b[0m\u001b[1;33m\u001b[0m\u001b[1;33m\u001b[0m\u001b[0m\n\u001b[0;32m      4\u001b[0m \u001b[1;33m\u001b[0m\u001b[0m\n\u001b[1;32m----> 5\u001b[1;33m \u001b[0mprint\u001b[0m\u001b[1;33m(\u001b[0m\u001b[0mnumpy\u001b[0m\u001b[1;33m.\u001b[0m\u001b[0mlinalg\u001b[0m\u001b[1;33m.\u001b[0m\u001b[0msolve\u001b[0m\u001b[1;33m(\u001b[0m\u001b[0mA\u001b[0m\u001b[1;33m,\u001b[0m\u001b[0mb\u001b[0m\u001b[1;33m)\u001b[0m\u001b[1;33m)\u001b[0m\u001b[1;33m\u001b[0m\u001b[1;33m\u001b[0m\u001b[0m\n\u001b[0m",
            "\u001b[1;32m<__array_function__ internals>\u001b[0m in \u001b[0;36msolve\u001b[1;34m(*args, **kwargs)\u001b[0m\n",
            "\u001b[1;32m~\\anaconda3\\envs\\DL\\lib\\site-packages\\numpy\\linalg\\linalg.py\u001b[0m in \u001b[0;36msolve\u001b[1;34m(a, b)\u001b[0m\n\u001b[0;32m    392\u001b[0m     \u001b[0msignature\u001b[0m \u001b[1;33m=\u001b[0m \u001b[1;34m'DD->D'\u001b[0m \u001b[1;32mif\u001b[0m \u001b[0misComplexType\u001b[0m\u001b[1;33m(\u001b[0m\u001b[0mt\u001b[0m\u001b[1;33m)\u001b[0m \u001b[1;32melse\u001b[0m \u001b[1;34m'dd->d'\u001b[0m\u001b[1;33m\u001b[0m\u001b[1;33m\u001b[0m\u001b[0m\n\u001b[0;32m    393\u001b[0m     \u001b[0mextobj\u001b[0m \u001b[1;33m=\u001b[0m \u001b[0mget_linalg_error_extobj\u001b[0m\u001b[1;33m(\u001b[0m\u001b[0m_raise_linalgerror_singular\u001b[0m\u001b[1;33m)\u001b[0m\u001b[1;33m\u001b[0m\u001b[1;33m\u001b[0m\u001b[0m\n\u001b[1;32m--> 394\u001b[1;33m     \u001b[0mr\u001b[0m \u001b[1;33m=\u001b[0m \u001b[0mgufunc\u001b[0m\u001b[1;33m(\u001b[0m\u001b[0ma\u001b[0m\u001b[1;33m,\u001b[0m \u001b[0mb\u001b[0m\u001b[1;33m,\u001b[0m \u001b[0msignature\u001b[0m\u001b[1;33m=\u001b[0m\u001b[0msignature\u001b[0m\u001b[1;33m,\u001b[0m \u001b[0mextobj\u001b[0m\u001b[1;33m=\u001b[0m\u001b[0mextobj\u001b[0m\u001b[1;33m)\u001b[0m\u001b[1;33m\u001b[0m\u001b[1;33m\u001b[0m\u001b[0m\n\u001b[0m\u001b[0;32m    395\u001b[0m \u001b[1;33m\u001b[0m\u001b[0m\n\u001b[0;32m    396\u001b[0m     \u001b[1;32mreturn\u001b[0m \u001b[0mwrap\u001b[0m\u001b[1;33m(\u001b[0m\u001b[0mr\u001b[0m\u001b[1;33m.\u001b[0m\u001b[0mastype\u001b[0m\u001b[1;33m(\u001b[0m\u001b[0mresult_t\u001b[0m\u001b[1;33m,\u001b[0m \u001b[0mcopy\u001b[0m\u001b[1;33m=\u001b[0m\u001b[1;32mFalse\u001b[0m\u001b[1;33m)\u001b[0m\u001b[1;33m)\u001b[0m\u001b[1;33m\u001b[0m\u001b[1;33m\u001b[0m\u001b[0m\n",
            "\u001b[1;32m~\\anaconda3\\envs\\DL\\lib\\site-packages\\numpy\\linalg\\linalg.py\u001b[0m in \u001b[0;36m_raise_linalgerror_singular\u001b[1;34m(err, flag)\u001b[0m\n\u001b[0;32m     86\u001b[0m \u001b[1;33m\u001b[0m\u001b[0m\n\u001b[0;32m     87\u001b[0m \u001b[1;32mdef\u001b[0m \u001b[0m_raise_linalgerror_singular\u001b[0m\u001b[1;33m(\u001b[0m\u001b[0merr\u001b[0m\u001b[1;33m,\u001b[0m \u001b[0mflag\u001b[0m\u001b[1;33m)\u001b[0m\u001b[1;33m:\u001b[0m\u001b[1;33m\u001b[0m\u001b[1;33m\u001b[0m\u001b[0m\n\u001b[1;32m---> 88\u001b[1;33m     \u001b[1;32mraise\u001b[0m \u001b[0mLinAlgError\u001b[0m\u001b[1;33m(\u001b[0m\u001b[1;34m\"Singular matrix\"\u001b[0m\u001b[1;33m)\u001b[0m\u001b[1;33m\u001b[0m\u001b[1;33m\u001b[0m\u001b[0m\n\u001b[0m\u001b[0;32m     89\u001b[0m \u001b[1;33m\u001b[0m\u001b[0m\n\u001b[0;32m     90\u001b[0m \u001b[1;32mdef\u001b[0m \u001b[0m_raise_linalgerror_nonposdef\u001b[0m\u001b[1;33m(\u001b[0m\u001b[0merr\u001b[0m\u001b[1;33m,\u001b[0m \u001b[0mflag\u001b[0m\u001b[1;33m)\u001b[0m\u001b[1;33m:\u001b[0m\u001b[1;33m\u001b[0m\u001b[1;33m\u001b[0m\u001b[0m\n",
            "\u001b[1;31mLinAlgError\u001b[0m: Singular matrix"
          ]
        }
      ],
      "source": [
        "# dependent system\n",
        "A = numpy.array([[2, 1], [6, 3]])\n",
        "b = numpy.array([1, 3])\n",
        "\n",
        "print(numpy.linalg.solve(A,b))"
      ]
    },
    {
      "cell_type": "markdown",
      "metadata": {
        "id": "7vmXpFE_4b1E"
      },
      "source": [
        "Note that the code throws an error because the matrix $\\mathbf{A}$ is singular since the system is dependent--i.e. there are infinitely many solutions, as we can confirm below."
      ]
    },
    {
      "cell_type": "code",
      "execution_count": null,
      "metadata": {
        "id": "OSOKWLF-4b1E",
        "outputId": "c0f820de-4891-49c4-cdd2-9dd4cefed4b5"
      },
      "outputs": [
        {
          "name": "stdout",
          "output_type": "stream",
          "text": [
            "0.0\n"
          ]
        }
      ],
      "source": [
        "A = numpy.array([[2, 1], [6, 3]])\n",
        "print(numpy.linalg.det(A))"
      ]
    },
    {
      "cell_type": "markdown",
      "metadata": {
        "id": "BsaeMeFY4b1E"
      },
      "source": [
        "### Example: 10-by-10 Linear System (with `NumPy`)"
      ]
    },
    {
      "cell_type": "code",
      "execution_count": null,
      "metadata": {
        "id": "yTgJDrtF4b1E",
        "outputId": "e9f19e1d-6e2c-41ff-8444-0f00ae3ffb1c"
      },
      "outputs": [
        {
          "name": "stdout",
          "output_type": "stream",
          "text": [
            "[ 0.09118027 -1.51451319 -2.48186344 -2.94076307  0.07912968  2.76425416\n",
            "  2.48851394 -0.30974375 -1.97943716  0.75619575]\n"
          ]
        },
        {
          "data": {
            "text/plain": [
              "2.1538326677728037e-14"
            ]
          },
          "execution_count": 21,
          "metadata": {},
          "output_type": "execute_result"
        }
      ],
      "source": [
        "import numpy\n",
        "\n",
        "numpy.random.seed(1)\n",
        "\n",
        "# Create A and b matrices with random\n",
        "A = 10*numpy.random.rand(10,10)-5\n",
        "b = 10*numpy.random.rand(10)-5\n",
        "\n",
        "# Solve Ax = b\n",
        "solution = numpy.linalg.solve(A,b)\n",
        "print(solution)\n",
        "\n",
        "# To verify the solution works, show Ax - b is near 0\n",
        "sum(abs(numpy.dot(A,solution) - b))"
      ]
    },
    {
      "cell_type": "markdown",
      "source": [
        "Write python code in Google Colab for the following. You are allowed to use any GenAI to guide you.\n",
        "\n",
        "Load any creative common image from wikipedia. Enlarge the image double of its size."
      ],
      "metadata": {
        "id": "PZY52ONSBkhk"
      }
    },
    {
      "cell_type": "code",
      "source": [
        "from PIL import Image\n",
        "import requests\n",
        "from io import BytesIO\n",
        "\n",
        "# URL of the image\n",
        "image_url = \"https://upload.wikimedia.org/wikipedia/commons/b/bc/Dudley_Hardy_-_Poster_for_Basil_Hood_and_Arthur_Sullivan%27s_The_Rose_of_Persia.jpg\"  # Replace with the image URL\n",
        "\n",
        "# Output file path\n",
        "output_image_path = \"enlarged_image.jpg\"\n",
        "\n",
        "# Download the image from the URL\n",
        "response = requests.get(image_url)\n",
        "if response.status_code == 200:\n",
        "    # Load the image into PIL\n",
        "    image = Image.open(BytesIO(response.content))\n",
        "\n",
        "    # Get the original dimensions\n",
        "    original_width, original_height = image.size\n",
        "\n",
        "    # Calculate the new dimensions\n",
        "    new_width = original_width * 2\n",
        "    new_height = original_height * 2\n",
        "\n",
        "    # Resize the image\n",
        "    enlarged_image = image.resize((new_width, new_height), Image.Resampling.LANCZOS)\n",
        "\n",
        "    # Save the enlarged image\n",
        "\n",
        "    # Save the enlarged image\n",
        "    enlarged_image.save(output_image_path)\n",
        "\n",
        "    print(f\"Image enlarged and saved to {output_image_path}\")\n",
        "else:\n",
        "    print(f\"Failed to download image. Status code: {response.status_code}\")\n"
      ],
      "metadata": {
        "id": "aeFZcIVsAccY",
        "outputId": "a81293d6-79f5-4465-ac03-73c53caabd81",
        "colab": {
          "base_uri": "https://localhost:8080/"
        }
      },
      "execution_count": 5,
      "outputs": [
        {
          "output_type": "stream",
          "name": "stdout",
          "text": [
            "Image enlarged and saved to enlarged_image.jpg\n"
          ]
        }
      ]
    },
    {
      "cell_type": "markdown",
      "source": [
        "Write python code in Google Colab for the following. You are allowed to use any GenAI to guide you.\n",
        "\n",
        "Transpose the image 90 degree"
      ],
      "metadata": {
        "id": "mtKXorAcBunw"
      }
    },
    {
      "cell_type": "code",
      "source": [
        "from PIL import Image\n",
        "import requests\n",
        "from io import BytesIO\n",
        "\n",
        "# URL of the image\n",
        "image_url = \"https://upload.wikimedia.org/wikipedia/commons/b/bc/Dudley_Hardy_-_Poster_for_Basil_Hood_and_Arthur_Sullivan%27s_The_Rose_of_Persia.jpg\"  # Replace with your image URL\n",
        "output_image_path = \"rotated_image.jpg\"\n",
        "\n",
        "# Download the image\n",
        "response = requests.get(image_url)\n",
        "if response.status_code == 200:\n",
        "    image = Image.open(BytesIO(response.content))\n",
        "\n",
        "    # Rotate the image 90 degrees counter-clockwise\n",
        "    rotated_image = image.transpose(Image.ROTATE_90)\n",
        "\n",
        "    # Save the rotated image\n",
        "    rotated_image.save(output_image_path)\n",
        "\n",
        "    print(f\"Image rotated 90 degrees and saved to {output_image_path}\")\n",
        "else:\n",
        "    print(f\"Failed to download image. Status code: {response.status_code}\")\n"
      ],
      "metadata": {
        "id": "J-Gu3aXJB6NT",
        "outputId": "6ba0d6a4-5ba3-4e5b-bdc0-f445164735a6",
        "colab": {
          "base_uri": "https://localhost:8080/"
        }
      },
      "execution_count": 6,
      "outputs": [
        {
          "output_type": "stream",
          "name": "stdout",
          "text": [
            "Image rotated 90 degrees and saved to rotated_image.jpg\n"
          ]
        }
      ]
    },
    {
      "cell_type": "markdown",
      "source": [
        "Write python code in Google Colab for the following. You are allowed to use any GenAI to guide you.\n",
        "\n",
        "https://vignette.wikia.nocookie.net/gameofthrones/images/2/25/707_Daenerys_Profil.jpg/revision/latest?cb=20170829215522&path-prefix=de  remove the background of the image. ONLY maintain the character"
      ],
      "metadata": {
        "id": "EkCO5E7lCpy9"
      }
    },
    {
      "cell_type": "code",
      "source": [
        "# Install onnxruntime\n",
        "!pip install onnxruntime\n",
        "\n",
        "from PIL import Image\n",
        "import requests\n",
        "from io import BytesIO\n",
        "from rembg import remove  # Import the remove function from rembg\n",
        "\n",
        "# Image URL\n",
        "image_url = \"https://vignette.wikia.nocookie.net/gameofthrones/images/2/25/707_Daenerys_Profil.jpg/revision/latest?cb=20170829215522&path-prefix=de\"  # Replace with the actual URL\n",
        "output_image_path = \"output_character_only.png\"\n",
        "\n",
        "# Download the image\n",
        "response = requests.get(image_url)\n",
        "if response.status_code == 200:\n",
        "    input_image = BytesIO(response.content)\n",
        "\n",
        "    # Remove the background using rembg\n",
        "    output_image = remove(input_image.read())\n",
        "\n",
        "    # Save the result\n",
        "    with open(output_image_path, \"wb\") as output_file:\n",
        "        output_file.write(output_image)\n",
        "\n",
        "    print(f\"Background removed. Output saved as {output_image_path}\")\n",
        "else:\n",
        "    print(f\"Failed to download image. Status code: {response.status_code}\")"
      ],
      "metadata": {
        "id": "SIozfMKfEZ8T",
        "outputId": "93ed7327-7b4b-4c66-cf62-03c9cac1e294",
        "colab": {
          "base_uri": "https://localhost:8080/"
        }
      },
      "execution_count": 16,
      "outputs": [
        {
          "output_type": "stream",
          "name": "stdout",
          "text": [
            "Collecting onnxruntime\n",
            "  Downloading onnxruntime-1.20.1-cp310-cp310-manylinux_2_27_x86_64.manylinux_2_28_x86_64.whl.metadata (4.5 kB)\n",
            "Collecting coloredlogs (from onnxruntime)\n",
            "  Downloading coloredlogs-15.0.1-py2.py3-none-any.whl.metadata (12 kB)\n",
            "Requirement already satisfied: flatbuffers in /usr/local/lib/python3.10/dist-packages (from onnxruntime) (24.3.25)\n",
            "Requirement already satisfied: numpy>=1.21.6 in /usr/local/lib/python3.10/dist-packages (from onnxruntime) (1.26.4)\n",
            "Requirement already satisfied: packaging in /usr/local/lib/python3.10/dist-packages (from onnxruntime) (24.2)\n",
            "Requirement already satisfied: protobuf in /usr/local/lib/python3.10/dist-packages (from onnxruntime) (4.25.5)\n",
            "Requirement already satisfied: sympy in /usr/local/lib/python3.10/dist-packages (from onnxruntime) (1.13.1)\n",
            "Collecting humanfriendly>=9.1 (from coloredlogs->onnxruntime)\n",
            "  Downloading humanfriendly-10.0-py2.py3-none-any.whl.metadata (9.2 kB)\n",
            "Requirement already satisfied: mpmath<1.4,>=1.1.0 in /usr/local/lib/python3.10/dist-packages (from sympy->onnxruntime) (1.3.0)\n",
            "Downloading onnxruntime-1.20.1-cp310-cp310-manylinux_2_27_x86_64.manylinux_2_28_x86_64.whl (13.3 MB)\n",
            "\u001b[2K   \u001b[90m━━━━━━━━━━━━━━━━━━━━━━━━━━━━━━━━━━━━━━━━\u001b[0m \u001b[32m13.3/13.3 MB\u001b[0m \u001b[31m88.0 MB/s\u001b[0m eta \u001b[36m0:00:00\u001b[0m\n",
            "\u001b[?25hDownloading coloredlogs-15.0.1-py2.py3-none-any.whl (46 kB)\n",
            "\u001b[2K   \u001b[90m━━━━━━━━━━━━━━━━━━━━━━━━━━━━━━━━━━━━━━━━\u001b[0m \u001b[32m46.0/46.0 kB\u001b[0m \u001b[31m3.9 MB/s\u001b[0m eta \u001b[36m0:00:00\u001b[0m\n",
            "\u001b[?25hDownloading humanfriendly-10.0-py2.py3-none-any.whl (86 kB)\n",
            "\u001b[2K   \u001b[90m━━━━━━━━━━━━━━━━━━━━━━━━━━━━━━━━━━━━━━━━\u001b[0m \u001b[32m86.8/86.8 kB\u001b[0m \u001b[31m8.1 MB/s\u001b[0m eta \u001b[36m0:00:00\u001b[0m\n",
            "\u001b[?25hInstalling collected packages: humanfriendly, coloredlogs, onnxruntime\n",
            "Successfully installed coloredlogs-15.0.1 humanfriendly-10.0 onnxruntime-1.20.1\n"
          ]
        },
        {
          "output_type": "stream",
          "name": "stderr",
          "text": [
            "Downloading data from 'https://github.com/danielgatis/rembg/releases/download/v0.0.0/u2net.onnx' to file '/root/.u2net/u2net.onnx'.\n",
            "100%|███████████████████████████████████████| 176M/176M [00:00<00:00, 24.2GB/s]\n"
          ]
        },
        {
          "output_type": "stream",
          "name": "stdout",
          "text": [
            "Background removed. Output saved as output_character_only.png\n"
          ]
        }
      ]
    },
    {
      "cell_type": "markdown",
      "source": [
        "Write python code in Google Colab for the following. You are allowed to use any GenAI to guide you.\n",
        "\n",
        "Find 2 creative common images online. Combine these 2 images side by side vertically. Export it as Jpg"
      ],
      "metadata": {
        "id": "I4WLkfMbHskP"
      }
    },
    {
      "cell_type": "code",
      "source": [
        "\n",
        "from PIL import Image\n",
        "import requests\n",
        "from io import BytesIO\n",
        "\n",
        "# URLs of the images\n",
        "image_url1 = \"https://upload.wikimedia.org/wikipedia/commons/b/bc/Dudley_Hardy_-_Poster_for_Basil_Hood_and_Arthur_Sullivan%27s_The_Rose_of_Persia.jpg\"  # Replace with your first image URL\n",
        "image_url2 = \"https://upload.wikimedia.org/wikipedia/commons/b/bc/Dudley_Hardy_-_Poster_for_Basil_Hood_and_Arthur_Sullivan%27s_The_Rose_of_Persia.jpg\"  # Replace with your second image URL\n",
        "output_image_path = \"combined_image.jpg\"\n",
        "\n",
        "# Function to download an image from a URL and open it as an image object\n",
        "def download_image(url):\n",
        "    response = requests.get(url)\n",
        "    if response.status_code == 200:\n",
        "        return Image.open(BytesIO(response.content))\n",
        "    else:\n",
        "        print(f\"Failed to download image from {url}. Status code: {response.status_code}\")\n",
        "        return None\n",
        "\n",
        "# Download the images\n",
        "image1 = download_image(image_url1)\n",
        "image2 = download_image(image_url2)\n",
        "\n",
        "if image1 and image2:\n",
        "    # Get the sizes of the images\n",
        "    width1, height1 = image1.size\n",
        "    width2, height2 = image2.size\n",
        "\n",
        "    # Determine the size of the new image\n",
        "    combined_width = max(width1, width2)\n",
        "    combined_height = height1 + height2\n",
        "\n",
        "    # Create a new blank image with the combined size\n",
        "    combined_image = Image.new(\"RGB\", (combined_width, combined_height))\n",
        "\n",
        "    # Paste the images side by side\n",
        "    combined_image.paste(image1, (0, 0))  # Paste image1 at the top\n",
        "    combined_image.paste(image2, (0, height1))  # Paste image2 below image1\n",
        "\n",
        "    # Save the combined image as JPG\n",
        "    combined_image.save(output_image_path, \"JPEG\")\n",
        "\n",
        "    print(f\"Images combined and saved as {output_image_path}\")\n",
        "else:\n",
        "    print(\"One or both images could not be downloaded.\")\n"
      ],
      "metadata": {
        "id": "E1d-l0lHHqsL",
        "outputId": "de5ce5ea-0875-4078-c041-a8fd00eca03b",
        "colab": {
          "base_uri": "https://localhost:8080/"
        }
      },
      "execution_count": 28,
      "outputs": [
        {
          "output_type": "stream",
          "name": "stdout",
          "text": [
            "Images combined and saved as combined_image.jpg\n"
          ]
        }
      ]
    },
    {
      "cell_type": "markdown",
      "source": [
        "Write python code in Google Colab for the following. You are allowed to use any GenAI to guide you.\n",
        "\n",
        "Change the image colour to gray tone."
      ],
      "metadata": {
        "id": "0XfqQeuuLPDt"
      }
    },
    {
      "cell_type": "code",
      "source": [
        "from PIL import Image\n",
        "import requests\n",
        "from io import BytesIO\n",
        "\n",
        "# URL of the image\n",
        "image_url = \"https://upload.wikimedia.org/wikipedia/commons/b/bc/Dudley_Hardy_-_Poster_for_Basil_Hood_and_Arthur_Sullivan%27s_The_Rose_of_Persia.jpg\"  # Replace with your image URL\n",
        "output_image_path = \"grayscale_image.jpg\"\n",
        "\n",
        "# Function to download the image from a URL and open it as an image object\n",
        "def download_image(url):\n",
        "    response = requests.get(url)\n",
        "    if response.status_code == 200:\n",
        "        return Image.open(BytesIO(response.content))\n",
        "    else:\n",
        "        print(f\"Failed to download image from {url}. Status code: {response.status_code}\")\n",
        "        return None\n",
        "\n",
        "# Download the image\n",
        "image = download_image(image_url)\n",
        "\n",
        "if image:\n",
        "    # Convert the image to grayscale\n",
        "    grayscale_image = image.convert(\"L\")\n",
        "\n",
        "    # Save the grayscale image as JPG\n",
        "    grayscale_image.save(output_image_path, \"JPEG\")\n",
        "\n",
        "    print(f\"Image converted to grayscale and saved as {output_image_path}\")\n",
        "else:\n",
        "    print(\"Failed to process the image.\")\n"
      ],
      "metadata": {
        "id": "Mur5iIw-L26V",
        "outputId": "223d1c74-5854-4a10-ded4-3a2e77a1f603",
        "colab": {
          "base_uri": "https://localhost:8080/"
        }
      },
      "execution_count": 30,
      "outputs": [
        {
          "output_type": "stream",
          "name": "stdout",
          "text": [
            "Image converted to grayscale and saved as grayscale_image.jpg\n"
          ]
        }
      ]
    }
  ],
  "metadata": {
    "kernelspec": {
      "display_name": "Python 3",
      "name": "python3"
    },
    "language_info": {
      "name": "python"
    },
    "colab": {
      "provenance": []
    }
  },
  "nbformat": 4,
  "nbformat_minor": 0
}