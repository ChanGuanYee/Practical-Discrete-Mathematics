{
  "nbformat": 4,
  "nbformat_minor": 0,
  "metadata": {
    "colab": {
      "provenance": [],
      "authorship_tag": "ABX9TyOmINATL/Pu1h22m8w731iF",
      "include_colab_link": true
    },
    "kernelspec": {
      "name": "python3",
      "display_name": "Python 3"
    },
    "language_info": {
      "name": "python"
    }
  },
  "cells": [
    {
      "cell_type": "markdown",
      "metadata": {
        "id": "view-in-github",
        "colab_type": "text"
      },
      "source": [
        "<a href=\"https://colab.research.google.com/github/ChanGuanYee/Practical-Discrete-Mathematics/blob/master/opencv.ipynb\" target=\"_parent\"><img src=\"https://colab.research.google.com/assets/colab-badge.svg\" alt=\"Open In Colab\"/></a>"
      ]
    },
    {
      "cell_type": "markdown",
      "source": [
        "Write python code in Google Colab for the following. You are allowed to use any GenAI to guide you.\n",
        "\n",
        "Load any creative common image from wikipedia. Enlarge the image double of its size."
      ],
      "metadata": {
        "id": "PZY52ONSBkhk"
      }
    },
    {
      "cell_type": "code",
      "source": [
        "from PIL import Image\n",
        "import requests\n",
        "from io import BytesIO\n",
        "\n",
        "# URL of the image\n",
        "image_url = \"https://upload.wikimedia.org/wikipedia/commons/b/bc/Dudley_Hardy_-_Poster_for_Basil_Hood_and_Arthur_Sullivan%27s_The_Rose_of_Persia.jpg\"  # Replace with the image URL\n",
        "\n",
        "# Output file path\n",
        "output_image_path = \"enlarged_image.jpg\"\n",
        "\n",
        "# Download the image from the URL\n",
        "response = requests.get(image_url)\n",
        "if response.status_code == 200:\n",
        "    # Load the image into PIL\n",
        "    image = Image.open(BytesIO(response.content))\n",
        "\n",
        "    # Get the original dimensions\n",
        "    original_width, original_height = image.size\n",
        "\n",
        "    # Calculate the new dimensions\n",
        "    new_width = original_width * 2\n",
        "    new_height = original_height * 2\n",
        "\n",
        "    # Resize the image\n",
        "    enlarged_image = image.resize((new_width, new_height), Image.Resampling.LANCZOS)\n",
        "\n",
        "    # Save the enlarged image\n",
        "\n",
        "    # Save the enlarged image\n",
        "    enlarged_image.save(output_image_path)\n",
        "\n",
        "    print(f\"Image enlarged and saved to {output_image_path}\")\n",
        "else:\n",
        "    print(f\"Failed to download image. Status code: {response.status_code}\")\n"
      ],
      "metadata": {
        "colab": {
          "base_uri": "https://localhost:8080/"
        },
        "id": "aeFZcIVsAccY",
        "outputId": "a81293d6-79f5-4465-ac03-73c53caabd81"
      },
      "execution_count": null,
      "outputs": [
        {
          "output_type": "stream",
          "name": "stdout",
          "text": [
            "Image enlarged and saved to enlarged_image.jpg\n"
          ]
        }
      ]
    },
    {
      "cell_type": "markdown",
      "source": [
        "Write python code in Google Colab for the following. You are allowed to use any GenAI to guide you.\n",
        "\n",
        "Transpose the image 90 degree"
      ],
      "metadata": {
        "id": "mtKXorAcBunw"
      }
    },
    {
      "cell_type": "code",
      "source": [
        "from PIL import Image\n",
        "import requests\n",
        "from io import BytesIO\n",
        "\n",
        "# URL of the image\n",
        "image_url = \"https://upload.wikimedia.org/wikipedia/commons/b/bc/Dudley_Hardy_-_Poster_for_Basil_Hood_and_Arthur_Sullivan%27s_The_Rose_of_Persia.jpg\"  # Replace with your image URL\n",
        "output_image_path = \"rotated_image.jpg\"\n",
        "\n",
        "# Download the image\n",
        "response = requests.get(image_url)\n",
        "if response.status_code == 200:\n",
        "    image = Image.open(BytesIO(response.content))\n",
        "\n",
        "    # Rotate the image 90 degrees counter-clockwise\n",
        "    rotated_image = image.transpose(Image.ROTATE_90)\n",
        "\n",
        "    # Save the rotated image\n",
        "    rotated_image.save(output_image_path)\n",
        "\n",
        "    print(f\"Image rotated 90 degrees and saved to {output_image_path}\")\n",
        "else:\n",
        "    print(f\"Failed to download image. Status code: {response.status_code}\")\n"
      ],
      "metadata": {
        "colab": {
          "base_uri": "https://localhost:8080/"
        },
        "id": "J-Gu3aXJB6NT",
        "outputId": "6ba0d6a4-5ba3-4e5b-bdc0-f445164735a6"
      },
      "execution_count": null,
      "outputs": [
        {
          "output_type": "stream",
          "name": "stdout",
          "text": [
            "Image rotated 90 degrees and saved to rotated_image.jpg\n"
          ]
        }
      ]
    },
    {
      "cell_type": "markdown",
      "source": [
        "Write python code in Google Colab for the following. You are allowed to use any GenAI to guide you.\n",
        "\n",
        "https://vignette.wikia.nocookie.net/gameofthrones/images/2/25/707_Daenerys_Profil.jpg/revision/latest?cb=20170829215522&path-prefix=de  remove the background of the image. ONLY maintain the character"
      ],
      "metadata": {
        "id": "EkCO5E7lCpy9"
      }
    },
    {
      "cell_type": "code",
      "source": [
        "# Install onnxruntime\n",
        "!pip install onnxruntime\n",
        "\n",
        "from PIL import Image\n",
        "import requests\n",
        "from io import BytesIO\n",
        "from rembg import remove  # Import the remove function from rembg\n",
        "\n",
        "# Image URL\n",
        "image_url = \"https://vignette.wikia.nocookie.net/gameofthrones/images/2/25/707_Daenerys_Profil.jpg/revision/latest?cb=20170829215522&path-prefix=de\"  # Replace with the actual URL\n",
        "output_image_path = \"output_character_only.png\"\n",
        "\n",
        "# Download the image\n",
        "response = requests.get(image_url)\n",
        "if response.status_code == 200:\n",
        "    input_image = BytesIO(response.content)\n",
        "\n",
        "    # Remove the background using rembg\n",
        "    output_image = remove(input_image.read())\n",
        "\n",
        "    # Save the result\n",
        "    with open(output_image_path, \"wb\") as output_file:\n",
        "        output_file.write(output_image)\n",
        "\n",
        "    print(f\"Background removed. Output saved as {output_image_path}\")\n",
        "else:\n",
        "    print(f\"Failed to download image. Status code: {response.status_code}\")"
      ],
      "metadata": {
        "colab": {
          "base_uri": "https://localhost:8080/"
        },
        "id": "SIozfMKfEZ8T",
        "outputId": "93ed7327-7b4b-4c66-cf62-03c9cac1e294"
      },
      "execution_count": null,
      "outputs": [
        {
          "output_type": "stream",
          "name": "stdout",
          "text": [
            "Collecting onnxruntime\n",
            "  Downloading onnxruntime-1.20.1-cp310-cp310-manylinux_2_27_x86_64.manylinux_2_28_x86_64.whl.metadata (4.5 kB)\n",
            "Collecting coloredlogs (from onnxruntime)\n",
            "  Downloading coloredlogs-15.0.1-py2.py3-none-any.whl.metadata (12 kB)\n",
            "Requirement already satisfied: flatbuffers in /usr/local/lib/python3.10/dist-packages (from onnxruntime) (24.3.25)\n",
            "Requirement already satisfied: numpy>=1.21.6 in /usr/local/lib/python3.10/dist-packages (from onnxruntime) (1.26.4)\n",
            "Requirement already satisfied: packaging in /usr/local/lib/python3.10/dist-packages (from onnxruntime) (24.2)\n",
            "Requirement already satisfied: protobuf in /usr/local/lib/python3.10/dist-packages (from onnxruntime) (4.25.5)\n",
            "Requirement already satisfied: sympy in /usr/local/lib/python3.10/dist-packages (from onnxruntime) (1.13.1)\n",
            "Collecting humanfriendly>=9.1 (from coloredlogs->onnxruntime)\n",
            "  Downloading humanfriendly-10.0-py2.py3-none-any.whl.metadata (9.2 kB)\n",
            "Requirement already satisfied: mpmath<1.4,>=1.1.0 in /usr/local/lib/python3.10/dist-packages (from sympy->onnxruntime) (1.3.0)\n",
            "Downloading onnxruntime-1.20.1-cp310-cp310-manylinux_2_27_x86_64.manylinux_2_28_x86_64.whl (13.3 MB)\n",
            "\u001b[2K   \u001b[90m━━━━━━━━━━━━━━━━━━━━━━━━━━━━━━━━━━━━━━━━\u001b[0m \u001b[32m13.3/13.3 MB\u001b[0m \u001b[31m88.0 MB/s\u001b[0m eta \u001b[36m0:00:00\u001b[0m\n",
            "\u001b[?25hDownloading coloredlogs-15.0.1-py2.py3-none-any.whl (46 kB)\n",
            "\u001b[2K   \u001b[90m━━━━━━━━━━━━━━━━━━━━━━━━━━━━━━━━━━━━━━━━\u001b[0m \u001b[32m46.0/46.0 kB\u001b[0m \u001b[31m3.9 MB/s\u001b[0m eta \u001b[36m0:00:00\u001b[0m\n",
            "\u001b[?25hDownloading humanfriendly-10.0-py2.py3-none-any.whl (86 kB)\n",
            "\u001b[2K   \u001b[90m━━━━━━━━━━━━━━━━━━━━━━━━━━━━━━━━━━━━━━━━\u001b[0m \u001b[32m86.8/86.8 kB\u001b[0m \u001b[31m8.1 MB/s\u001b[0m eta \u001b[36m0:00:00\u001b[0m\n",
            "\u001b[?25hInstalling collected packages: humanfriendly, coloredlogs, onnxruntime\n",
            "Successfully installed coloredlogs-15.0.1 humanfriendly-10.0 onnxruntime-1.20.1\n"
          ]
        },
        {
          "output_type": "stream",
          "name": "stderr",
          "text": [
            "Downloading data from 'https://github.com/danielgatis/rembg/releases/download/v0.0.0/u2net.onnx' to file '/root/.u2net/u2net.onnx'.\n",
            "100%|███████████████████████████████████████| 176M/176M [00:00<00:00, 24.2GB/s]\n"
          ]
        },
        {
          "output_type": "stream",
          "name": "stdout",
          "text": [
            "Background removed. Output saved as output_character_only.png\n"
          ]
        }
      ]
    },
    {
      "cell_type": "markdown",
      "source": [
        "Write python code in Google Colab for the following. You are allowed to use any GenAI to guide you.\n",
        "\n",
        "Find 2 creative common images online. Combine these 2 images side by side vertically. Export it as Jpg"
      ],
      "metadata": {
        "id": "I4WLkfMbHskP"
      }
    },
    {
      "cell_type": "code",
      "source": [
        "\n",
        "from PIL import Image\n",
        "import requests\n",
        "from io import BytesIO\n",
        "\n",
        "# URLs of the images\n",
        "image_url1 = \"https://upload.wikimedia.org/wikipedia/commons/b/bc/Dudley_Hardy_-_Poster_for_Basil_Hood_and_Arthur_Sullivan%27s_The_Rose_of_Persia.jpg\"  # Replace with your first image URL\n",
        "image_url2 = \"https://upload.wikimedia.org/wikipedia/commons/b/bc/Dudley_Hardy_-_Poster_for_Basil_Hood_and_Arthur_Sullivan%27s_The_Rose_of_Persia.jpg\"  # Replace with your second image URL\n",
        "output_image_path = \"combined_image.jpg\"\n",
        "\n",
        "# Function to download an image from a URL and open it as an image object\n",
        "def download_image(url):\n",
        "    response = requests.get(url)\n",
        "    if response.status_code == 200:\n",
        "        return Image.open(BytesIO(response.content))\n",
        "    else:\n",
        "        print(f\"Failed to download image from {url}. Status code: {response.status_code}\")\n",
        "        return None\n",
        "\n",
        "# Download the images\n",
        "image1 = download_image(image_url1)\n",
        "image2 = download_image(image_url2)\n",
        "\n",
        "if image1 and image2:\n",
        "    # Get the sizes of the images\n",
        "    width1, height1 = image1.size\n",
        "    width2, height2 = image2.size\n",
        "\n",
        "    # Determine the size of the new image\n",
        "    combined_width = max(width1, width2)\n",
        "    combined_height = height1 + height2\n",
        "\n",
        "    # Create a new blank image with the combined size\n",
        "    combined_image = Image.new(\"RGB\", (combined_width, combined_height))\n",
        "\n",
        "    # Paste the images side by side\n",
        "    combined_image.paste(image1, (0, 0))  # Paste image1 at the top\n",
        "    combined_image.paste(image2, (0, height1))  # Paste image2 below image1\n",
        "\n",
        "    # Save the combined image as JPG\n",
        "    combined_image.save(output_image_path, \"JPEG\")\n",
        "\n",
        "    print(f\"Images combined and saved as {output_image_path}\")\n",
        "else:\n",
        "    print(\"One or both images could not be downloaded.\")\n"
      ],
      "metadata": {
        "colab": {
          "base_uri": "https://localhost:8080/"
        },
        "id": "E1d-l0lHHqsL",
        "outputId": "de5ce5ea-0875-4078-c041-a8fd00eca03b"
      },
      "execution_count": null,
      "outputs": [
        {
          "output_type": "stream",
          "name": "stdout",
          "text": [
            "Images combined and saved as combined_image.jpg\n"
          ]
        }
      ]
    },
    {
      "cell_type": "markdown",
      "source": [
        "Write python code in Google Colab for the following. You are allowed to use any GenAI to guide you.\n",
        "\n",
        "Change the image colour to gray tone."
      ],
      "metadata": {
        "id": "0XfqQeuuLPDt"
      }
    },
    {
      "cell_type": "code",
      "source": [
        "from PIL import Image\n",
        "import requests\n",
        "from io import BytesIO\n",
        "\n",
        "# URL of the image\n",
        "image_url = \"https://upload.wikimedia.org/wikipedia/commons/b/bc/Dudley_Hardy_-_Poster_for_Basil_Hood_and_Arthur_Sullivan%27s_The_Rose_of_Persia.jpg\"  # Replace with your image URL\n",
        "output_image_path = \"grayscale_image.jpg\"\n",
        "\n",
        "# Function to download the image from a URL and open it as an image object\n",
        "def download_image(url):\n",
        "    response = requests.get(url)\n",
        "    if response.status_code == 200:\n",
        "        return Image.open(BytesIO(response.content))\n",
        "    else:\n",
        "        print(f\"Failed to download image from {url}. Status code: {response.status_code}\")\n",
        "        return None\n",
        "\n",
        "# Download the image\n",
        "image = download_image(image_url)\n",
        "\n",
        "if image:\n",
        "    # Convert the image to grayscale\n",
        "    grayscale_image = image.convert(\"L\")\n",
        "\n",
        "    # Save the grayscale image as JPG\n",
        "    grayscale_image.save(output_image_path, \"JPEG\")\n",
        "\n",
        "    print(f\"Image converted to grayscale and saved as {output_image_path}\")\n",
        "else:\n",
        "    print(\"Failed to process the image.\")\n"
      ],
      "metadata": {
        "colab": {
          "base_uri": "https://localhost:8080/"
        },
        "id": "Mur5iIw-L26V",
        "outputId": "223d1c74-5854-4a10-ded4-3a2e77a1f603"
      },
      "execution_count": null,
      "outputs": [
        {
          "output_type": "stream",
          "name": "stdout",
          "text": [
            "Image converted to grayscale and saved as grayscale_image.jpg\n"
          ]
        }
      ]
    }
  ]
}